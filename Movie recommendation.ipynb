{
 "cells": [
  {
   "cell_type": "code",
   "execution_count": 11,
   "metadata": {},
   "outputs": [],
   "source": [
    "import pandas as pd\n",
    "import numpy as np\n",
    "from statistics import mode"
   ]
  },
  {
   "cell_type": "code",
   "execution_count": 12,
   "metadata": {},
   "outputs": [],
   "source": [
    "data=pd.read_csv('u.data', sep= '\\t', header = None)\n",
    "df = data.iloc[:, 0:4]\n",
    "df.columns = ['user_id', 'movie_id', 'rating', 'date_time']\n",
    "data2 = pd.read_csv('u.item', encoding='latin1', header=None, sep='|')\n",
    "item = data2.iloc[:, 0:2]\n",
    "item.columns = ['movie_id', 'title']\n",
    "ratings = pd.merge(left = item, right = df, how = 'left', on = 'movie_id')\n",
    "movie = ratings.sort_values(by = ['user_id','date_time'])\n",
    "#movie"
   ]
  },
  {
   "cell_type": "code",
   "execution_count": 13,
   "metadata": {},
   "outputs": [
    {
     "data": {
      "text/html": [
       "<div>\n",
       "<style scoped>\n",
       "    .dataframe tbody tr th:only-of-type {\n",
       "        vertical-align: middle;\n",
       "    }\n",
       "\n",
       "    .dataframe tbody tr th {\n",
       "        vertical-align: top;\n",
       "    }\n",
       "\n",
       "    .dataframe thead th {\n",
       "        text-align: right;\n",
       "    }\n",
       "</style>\n",
       "<table border=\"1\" class=\"dataframe\">\n",
       "  <thead>\n",
       "    <tr style=\"text-align: right;\">\n",
       "      <th></th>\n",
       "      <th>movie_id</th>\n",
       "      <th>title</th>\n",
       "      <th>user_id</th>\n",
       "      <th>rating</th>\n",
       "      <th>date_time</th>\n",
       "    </tr>\n",
       "  </thead>\n",
       "  <tbody>\n",
       "    <tr>\n",
       "      <th>0</th>\n",
       "      <td>1</td>\n",
       "      <td>Toy Story (1995)</td>\n",
       "      <td>308</td>\n",
       "      <td>4</td>\n",
       "      <td>887736532</td>\n",
       "    </tr>\n",
       "    <tr>\n",
       "      <th>1</th>\n",
       "      <td>1</td>\n",
       "      <td>Toy Story (1995)</td>\n",
       "      <td>287</td>\n",
       "      <td>5</td>\n",
       "      <td>875334088</td>\n",
       "    </tr>\n",
       "    <tr>\n",
       "      <th>2</th>\n",
       "      <td>1</td>\n",
       "      <td>Toy Story (1995)</td>\n",
       "      <td>148</td>\n",
       "      <td>4</td>\n",
       "      <td>877019411</td>\n",
       "    </tr>\n",
       "    <tr>\n",
       "      <th>3</th>\n",
       "      <td>1</td>\n",
       "      <td>Toy Story (1995)</td>\n",
       "      <td>280</td>\n",
       "      <td>4</td>\n",
       "      <td>891700426</td>\n",
       "    </tr>\n",
       "    <tr>\n",
       "      <th>4</th>\n",
       "      <td>1</td>\n",
       "      <td>Toy Story (1995)</td>\n",
       "      <td>66</td>\n",
       "      <td>3</td>\n",
       "      <td>883601324</td>\n",
       "    </tr>\n",
       "    <tr>\n",
       "      <th>...</th>\n",
       "      <td>...</td>\n",
       "      <td>...</td>\n",
       "      <td>...</td>\n",
       "      <td>...</td>\n",
       "      <td>...</td>\n",
       "    </tr>\n",
       "    <tr>\n",
       "      <th>99995</th>\n",
       "      <td>1678</td>\n",
       "      <td>Mat' i syn (1997)</td>\n",
       "      <td>863</td>\n",
       "      <td>1</td>\n",
       "      <td>889289570</td>\n",
       "    </tr>\n",
       "    <tr>\n",
       "      <th>99996</th>\n",
       "      <td>1679</td>\n",
       "      <td>B. Monkey (1998)</td>\n",
       "      <td>863</td>\n",
       "      <td>3</td>\n",
       "      <td>889289491</td>\n",
       "    </tr>\n",
       "    <tr>\n",
       "      <th>99997</th>\n",
       "      <td>1680</td>\n",
       "      <td>Sliding Doors (1998)</td>\n",
       "      <td>863</td>\n",
       "      <td>2</td>\n",
       "      <td>889289570</td>\n",
       "    </tr>\n",
       "    <tr>\n",
       "      <th>99998</th>\n",
       "      <td>1681</td>\n",
       "      <td>You So Crazy (1994)</td>\n",
       "      <td>896</td>\n",
       "      <td>3</td>\n",
       "      <td>887160722</td>\n",
       "    </tr>\n",
       "    <tr>\n",
       "      <th>99999</th>\n",
       "      <td>1682</td>\n",
       "      <td>Scream of Stone (Schrei aus Stein) (1991)</td>\n",
       "      <td>916</td>\n",
       "      <td>3</td>\n",
       "      <td>880845755</td>\n",
       "    </tr>\n",
       "  </tbody>\n",
       "</table>\n",
       "<p>100000 rows × 5 columns</p>\n",
       "</div>"
      ],
      "text/plain": [
       "       movie_id                                      title  user_id  rating  \\\n",
       "0             1                           Toy Story (1995)      308       4   \n",
       "1             1                           Toy Story (1995)      287       5   \n",
       "2             1                           Toy Story (1995)      148       4   \n",
       "3             1                           Toy Story (1995)      280       4   \n",
       "4             1                           Toy Story (1995)       66       3   \n",
       "...         ...                                        ...      ...     ...   \n",
       "99995      1678                          Mat' i syn (1997)      863       1   \n",
       "99996      1679                           B. Monkey (1998)      863       3   \n",
       "99997      1680                       Sliding Doors (1998)      863       2   \n",
       "99998      1681                        You So Crazy (1994)      896       3   \n",
       "99999      1682  Scream of Stone (Schrei aus Stein) (1991)      916       3   \n",
       "\n",
       "       date_time  \n",
       "0      887736532  \n",
       "1      875334088  \n",
       "2      877019411  \n",
       "3      891700426  \n",
       "4      883601324  \n",
       "...          ...  \n",
       "99995  889289570  \n",
       "99996  889289491  \n",
       "99997  889289570  \n",
       "99998  887160722  \n",
       "99999  880845755  \n",
       "\n",
       "[100000 rows x 5 columns]"
      ]
     },
     "execution_count": 13,
     "metadata": {},
     "output_type": "execute_result"
    }
   ],
   "source": [
    "ratings"
   ]
  },
  {
   "cell_type": "markdown",
   "metadata": {},
   "source": [
    "#### popular next movie"
   ]
  },
  {
   "cell_type": "code",
   "execution_count": 14,
   "metadata": {},
   "outputs": [
    {
     "ename": "AttributeError",
     "evalue": "'DataFrame' object has no attribute 'next_movies'",
     "output_type": "error",
     "traceback": [
      "\u001b[1;31m---------------------------------------------------------------------------\u001b[0m",
      "\u001b[1;31mAttributeError\u001b[0m                            Traceback (most recent call last)",
      "\u001b[1;32mc:\\Users\\Jun Kim\\OneDrive\\Desktop\\LearningFuze\\Movie recommendation.ipynb Cell 5'\u001b[0m in \u001b[0;36m<module>\u001b[1;34m\u001b[0m\n\u001b[0;32m      <a href='vscode-notebook-cell:/c%3A/Users/Jun%20Kim/OneDrive/Desktop/LearningFuze/Movie%20recommendation.ipynb#ch0000003?line=0'>1</a>\u001b[0m \u001b[39mfor\u001b[39;00m i \u001b[39min\u001b[39;00m \u001b[39mrange\u001b[39m(\u001b[39mlen\u001b[39m(movie)\u001b[39m-\u001b[39m\u001b[39m1\u001b[39m):\n\u001b[0;32m      <a href='vscode-notebook-cell:/c%3A/Users/Jun%20Kim/OneDrive/Desktop/LearningFuze/Movie%20recommendation.ipynb#ch0000003?line=1'>2</a>\u001b[0m     \u001b[39mif\u001b[39;00m movie\u001b[39m.\u001b[39muser_id\u001b[39m.\u001b[39miloc[i] \u001b[39m==\u001b[39m movie\u001b[39m.\u001b[39muser_id\u001b[39m.\u001b[39miloc[i\u001b[39m+\u001b[39m\u001b[39m1\u001b[39m]:\n\u001b[1;32m----> <a href='vscode-notebook-cell:/c%3A/Users/Jun%20Kim/OneDrive/Desktop/LearningFuze/Movie%20recommendation.ipynb#ch0000003?line=2'>3</a>\u001b[0m         movie\u001b[39m.\u001b[39;49mnext_movies\u001b[39m.\u001b[39miloc[i] \u001b[39m=\u001b[39m movie\u001b[39m.\u001b[39mtitle\u001b[39m.\u001b[39miloc[i\u001b[39m+\u001b[39m\u001b[39m1\u001b[39m]\n",
      "File \u001b[1;32mc:\\Users\\Jun Kim\\AppData\\Local\\Programs\\Python\\Python310\\lib\\site-packages\\pandas\\core\\generic.py:5583\u001b[0m, in \u001b[0;36mNDFrame.__getattr__\u001b[1;34m(self, name)\u001b[0m\n\u001b[0;32m   <a href='file:///c%3A/Users/Jun%20Kim/AppData/Local/Programs/Python/Python310/lib/site-packages/pandas/core/generic.py?line=5575'>5576</a>\u001b[0m \u001b[39mif\u001b[39;00m (\n\u001b[0;32m   <a href='file:///c%3A/Users/Jun%20Kim/AppData/Local/Programs/Python/Python310/lib/site-packages/pandas/core/generic.py?line=5576'>5577</a>\u001b[0m     name \u001b[39mnot\u001b[39;00m \u001b[39min\u001b[39;00m \u001b[39mself\u001b[39m\u001b[39m.\u001b[39m_internal_names_set\n\u001b[0;32m   <a href='file:///c%3A/Users/Jun%20Kim/AppData/Local/Programs/Python/Python310/lib/site-packages/pandas/core/generic.py?line=5577'>5578</a>\u001b[0m     \u001b[39mand\u001b[39;00m name \u001b[39mnot\u001b[39;00m \u001b[39min\u001b[39;00m \u001b[39mself\u001b[39m\u001b[39m.\u001b[39m_metadata\n\u001b[0;32m   <a href='file:///c%3A/Users/Jun%20Kim/AppData/Local/Programs/Python/Python310/lib/site-packages/pandas/core/generic.py?line=5578'>5579</a>\u001b[0m     \u001b[39mand\u001b[39;00m name \u001b[39mnot\u001b[39;00m \u001b[39min\u001b[39;00m \u001b[39mself\u001b[39m\u001b[39m.\u001b[39m_accessors\n\u001b[0;32m   <a href='file:///c%3A/Users/Jun%20Kim/AppData/Local/Programs/Python/Python310/lib/site-packages/pandas/core/generic.py?line=5579'>5580</a>\u001b[0m     \u001b[39mand\u001b[39;00m \u001b[39mself\u001b[39m\u001b[39m.\u001b[39m_info_axis\u001b[39m.\u001b[39m_can_hold_identifiers_and_holds_name(name)\n\u001b[0;32m   <a href='file:///c%3A/Users/Jun%20Kim/AppData/Local/Programs/Python/Python310/lib/site-packages/pandas/core/generic.py?line=5580'>5581</a>\u001b[0m ):\n\u001b[0;32m   <a href='file:///c%3A/Users/Jun%20Kim/AppData/Local/Programs/Python/Python310/lib/site-packages/pandas/core/generic.py?line=5581'>5582</a>\u001b[0m     \u001b[39mreturn\u001b[39;00m \u001b[39mself\u001b[39m[name]\n\u001b[1;32m-> <a href='file:///c%3A/Users/Jun%20Kim/AppData/Local/Programs/Python/Python310/lib/site-packages/pandas/core/generic.py?line=5582'>5583</a>\u001b[0m \u001b[39mreturn\u001b[39;00m \u001b[39mobject\u001b[39;49m\u001b[39m.\u001b[39;49m\u001b[39m__getattribute__\u001b[39;49m(\u001b[39mself\u001b[39;49m, name)\n",
      "\u001b[1;31mAttributeError\u001b[0m: 'DataFrame' object has no attribute 'next_movies'"
     ]
    }
   ],
   "source": [
    "for i in range(len(movie)-1):\n",
    "    if movie.user_id.iloc[i] == movie.user_id.iloc[i+1]:\n",
    "        movie.next_movies.iloc[i] = movie.title.iloc[i+1]"
   ]
  },
  {
   "cell_type": "code",
   "execution_count": 15,
   "metadata": {},
   "outputs": [
    {
     "ename": "AttributeError",
     "evalue": "'DataFrame' object has no attribute 'next_movies'",
     "output_type": "error",
     "traceback": [
      "\u001b[1;31m---------------------------------------------------------------------------\u001b[0m",
      "\u001b[1;31mAttributeError\u001b[0m                            Traceback (most recent call last)",
      "\u001b[1;32mc:\\Users\\Jun Kim\\OneDrive\\Desktop\\LearningFuze\\Movie recommendation.ipynb Cell 6'\u001b[0m in \u001b[0;36m<module>\u001b[1;34m\u001b[0m\n\u001b[1;32m----> <a href='vscode-notebook-cell:/c%3A/Users/Jun%20Kim/OneDrive/Desktop/LearningFuze/Movie%20recommendation.ipynb#ch0000005?line=0'>1</a>\u001b[0m movie[movie\u001b[39m.\u001b[39;49mtitle \u001b[39m==\u001b[39;49m \u001b[39m'\u001b[39;49m\u001b[39mMonty Python and the Holy Grail (1974)\u001b[39;49m\u001b[39m'\u001b[39;49m]\u001b[39m.\u001b[39;49mnext_movies\u001b[39m.\u001b[39mvalue_counts()\n",
      "File \u001b[1;32mc:\\Users\\Jun Kim\\AppData\\Local\\Programs\\Python\\Python310\\lib\\site-packages\\pandas\\core\\generic.py:5583\u001b[0m, in \u001b[0;36mNDFrame.__getattr__\u001b[1;34m(self, name)\u001b[0m\n\u001b[0;32m   <a href='file:///c%3A/Users/Jun%20Kim/AppData/Local/Programs/Python/Python310/lib/site-packages/pandas/core/generic.py?line=5575'>5576</a>\u001b[0m \u001b[39mif\u001b[39;00m (\n\u001b[0;32m   <a href='file:///c%3A/Users/Jun%20Kim/AppData/Local/Programs/Python/Python310/lib/site-packages/pandas/core/generic.py?line=5576'>5577</a>\u001b[0m     name \u001b[39mnot\u001b[39;00m \u001b[39min\u001b[39;00m \u001b[39mself\u001b[39m\u001b[39m.\u001b[39m_internal_names_set\n\u001b[0;32m   <a href='file:///c%3A/Users/Jun%20Kim/AppData/Local/Programs/Python/Python310/lib/site-packages/pandas/core/generic.py?line=5577'>5578</a>\u001b[0m     \u001b[39mand\u001b[39;00m name \u001b[39mnot\u001b[39;00m \u001b[39min\u001b[39;00m \u001b[39mself\u001b[39m\u001b[39m.\u001b[39m_metadata\n\u001b[0;32m   <a href='file:///c%3A/Users/Jun%20Kim/AppData/Local/Programs/Python/Python310/lib/site-packages/pandas/core/generic.py?line=5578'>5579</a>\u001b[0m     \u001b[39mand\u001b[39;00m name \u001b[39mnot\u001b[39;00m \u001b[39min\u001b[39;00m \u001b[39mself\u001b[39m\u001b[39m.\u001b[39m_accessors\n\u001b[0;32m   <a href='file:///c%3A/Users/Jun%20Kim/AppData/Local/Programs/Python/Python310/lib/site-packages/pandas/core/generic.py?line=5579'>5580</a>\u001b[0m     \u001b[39mand\u001b[39;00m \u001b[39mself\u001b[39m\u001b[39m.\u001b[39m_info_axis\u001b[39m.\u001b[39m_can_hold_identifiers_and_holds_name(name)\n\u001b[0;32m   <a href='file:///c%3A/Users/Jun%20Kim/AppData/Local/Programs/Python/Python310/lib/site-packages/pandas/core/generic.py?line=5580'>5581</a>\u001b[0m ):\n\u001b[0;32m   <a href='file:///c%3A/Users/Jun%20Kim/AppData/Local/Programs/Python/Python310/lib/site-packages/pandas/core/generic.py?line=5581'>5582</a>\u001b[0m     \u001b[39mreturn\u001b[39;00m \u001b[39mself\u001b[39m[name]\n\u001b[1;32m-> <a href='file:///c%3A/Users/Jun%20Kim/AppData/Local/Programs/Python/Python310/lib/site-packages/pandas/core/generic.py?line=5582'>5583</a>\u001b[0m \u001b[39mreturn\u001b[39;00m \u001b[39mobject\u001b[39;49m\u001b[39m.\u001b[39;49m\u001b[39m__getattribute__\u001b[39;49m(\u001b[39mself\u001b[39;49m, name)\n",
      "\u001b[1;31mAttributeError\u001b[0m: 'DataFrame' object has no attribute 'next_movies'"
     ]
    }
   ],
   "source": [
    "movie[movie.title == 'Monty Python and the Holy Grail (1974)'].next_movies.value_counts()"
   ]
  },
  {
   "cell_type": "markdown",
   "metadata": {},
   "source": [
    "#### user based"
   ]
  },
  {
   "cell_type": "code",
   "execution_count": 16,
   "metadata": {},
   "outputs": [],
   "source": [
    "utility_matrix = ratings.pivot_table(index = 'user_id', columns= 'title', values= 'rating')\n",
    "corr_matrix = utility_matrix.corr()\n",
    "zeus = utility_matrix.corr()['Zeus and Roxanne (1997)'].sort_values(ascending= False)"
   ]
  },
  {
   "cell_type": "markdown",
   "metadata": {},
   "source": [
    "#### most popular next movie solution"
   ]
  },
  {
   "cell_type": "code",
   "execution_count": 17,
   "metadata": {},
   "outputs": [
    {
     "name": "stderr",
     "output_type": "stream",
     "text": [
      "C:\\Users\\Jun Kim\\AppData\\Local\\Temp\\ipykernel_6120\\3735608523.py:7: SettingWithCopyWarning: \n",
      "A value is trying to be set on a copy of a slice from a DataFrame\n",
      "\n",
      "See the caveats in the documentation: https://pandas.pydata.org/pandas-docs/stable/user_guide/indexing.html#returning-a-view-versus-a-copy\n",
      "  movie['next_movies'].iloc[i] = movie['title'].iloc[i+1]\n"
     ]
    },
    {
     "data": {
      "text/html": [
       "<div>\n",
       "<style scoped>\n",
       "    .dataframe tbody tr th:only-of-type {\n",
       "        vertical-align: middle;\n",
       "    }\n",
       "\n",
       "    .dataframe tbody tr th {\n",
       "        vertical-align: top;\n",
       "    }\n",
       "\n",
       "    .dataframe thead th {\n",
       "        text-align: right;\n",
       "    }\n",
       "</style>\n",
       "<table border=\"1\" class=\"dataframe\">\n",
       "  <thead>\n",
       "    <tr style=\"text-align: right;\">\n",
       "      <th></th>\n",
       "      <th>next_movies</th>\n",
       "    </tr>\n",
       "  </thead>\n",
       "  <tbody>\n",
       "    <tr>\n",
       "      <th>English Patient, The (1996)</th>\n",
       "      <td>65</td>\n",
       "    </tr>\n",
       "    <tr>\n",
       "      <th>Scream (1996)</th>\n",
       "      <td>43</td>\n",
       "    </tr>\n",
       "    <tr>\n",
       "      <th>Air Force One (1997)</th>\n",
       "      <td>35</td>\n",
       "    </tr>\n",
       "    <tr>\n",
       "      <th>Chasing Amy (1997)</th>\n",
       "      <td>28</td>\n",
       "    </tr>\n",
       "    <tr>\n",
       "      <th>Full Monty, The (1997)</th>\n",
       "      <td>28</td>\n",
       "    </tr>\n",
       "    <tr>\n",
       "      <th>Good Will Hunting (1997)</th>\n",
       "      <td>17</td>\n",
       "    </tr>\n",
       "    <tr>\n",
       "      <th>Liar Liar (1997)</th>\n",
       "      <td>17</td>\n",
       "    </tr>\n",
       "    <tr>\n",
       "      <th>Gattaca (1997)</th>\n",
       "      <td>15</td>\n",
       "    </tr>\n",
       "    <tr>\n",
       "      <th>L.A. Confidential (1997)</th>\n",
       "      <td>13</td>\n",
       "    </tr>\n",
       "    <tr>\n",
       "      <th>Conspiracy Theory (1997)</th>\n",
       "      <td>10</td>\n",
       "    </tr>\n",
       "  </tbody>\n",
       "</table>\n",
       "</div>"
      ],
      "text/plain": [
       "                             next_movies\n",
       "English Patient, The (1996)           65\n",
       "Scream (1996)                         43\n",
       "Air Force One (1997)                  35\n",
       "Chasing Amy (1997)                    28\n",
       "Full Monty, The (1997)                28\n",
       "Good Will Hunting (1997)              17\n",
       "Liar Liar (1997)                      17\n",
       "Gattaca (1997)                        15\n",
       "L.A. Confidential (1997)              13\n",
       "Conspiracy Theory (1997)              10"
      ]
     },
     "execution_count": 17,
     "metadata": {},
     "output_type": "execute_result"
    }
   ],
   "source": [
    "def get_next_movies(movie_title):\n",
    "    movie = ratings.sort_values(by = ['user_id','date_time'])[['user_id','rating','date_time','title']]\n",
    "    movie['next_movies'] = np.nan\n",
    "\n",
    "    for i in range(len(movie)-1):\n",
    "        if movie['user_id'].iloc[i] == movie['user_id'].iloc[i+1]:\n",
    "            movie['next_movies'].iloc[i] = movie['title'].iloc[i+1]\n",
    "    return pd.DataFrame(movie[movie.title == movie_title]['next_movies'].value_counts().head(10))\n",
    "get_next_movies('Contact (1997)')"
   ]
  },
  {
   "cell_type": "markdown",
   "metadata": {},
   "source": [
    "#### user-based solution"
   ]
  },
  {
   "cell_type": "code",
   "execution_count": 19,
   "metadata": {},
   "outputs": [
    {
     "ename": "TypeError",
     "evalue": "userbased_movies() missing 2 required positional arguments: 'userid' and 'movie'",
     "output_type": "error",
     "traceback": [
      "\u001b[1;31m---------------------------------------------------------------------------\u001b[0m",
      "\u001b[1;31mTypeError\u001b[0m                                 Traceback (most recent call last)",
      "\u001b[1;32mc:\\Users\\Jun Kim\\OneDrive\\Desktop\\LearningFuze\\Movie recommendation.ipynb Cell 12'\u001b[0m in \u001b[0;36m<module>\u001b[1;34m\u001b[0m\n\u001b[0;32m     <a href='vscode-notebook-cell:/c%3A/Users/Jun%20Kim/OneDrive/Desktop/LearningFuze/Movie%20recommendation.ipynb#ch0000012?line=9'>10</a>\u001b[0m     final_1 \u001b[39m=\u001b[39m final\u001b[39m.\u001b[39mdrop(index \u001b[39m=\u001b[39m watched_movies, errors \u001b[39m=\u001b[39m \u001b[39m'\u001b[39m\u001b[39mignore\u001b[39m\u001b[39m'\u001b[39m)\u001b[39m.\u001b[39msort_values(by \u001b[39m=\u001b[39m \u001b[39m'\u001b[39m\u001b[39msimilarity\u001b[39m\u001b[39m'\u001b[39m, ascending \u001b[39m=\u001b[39m \u001b[39mFalse\u001b[39;00m)\n\u001b[0;32m     <a href='vscode-notebook-cell:/c%3A/Users/Jun%20Kim/OneDrive/Desktop/LearningFuze/Movie%20recommendation.ipynb#ch0000012?line=11'>12</a>\u001b[0m     \u001b[39mreturn\u001b[39;00m final_1\u001b[39m.\u001b[39mhead()\n\u001b[1;32m---> <a href='vscode-notebook-cell:/c%3A/Users/Jun%20Kim/OneDrive/Desktop/LearningFuze/Movie%20recommendation.ipynb#ch0000012?line=13'>14</a>\u001b[0m userbased_movies()\n",
      "\u001b[1;31mTypeError\u001b[0m: userbased_movies() missing 2 required positional arguments: 'userid' and 'movie'"
     ]
    }
   ],
   "source": [
    "def userbased_movies(userid, movie):\n",
    "    utility_matrix = ratings.pivot_table(index = 'user_id', columns= 'title', values= 'rating')\n",
    "    corr_matrix = utility_matrix.corr()\n",
    "    similar = corr_matrix[movie].sort_values(ascending = False)\n",
    "    pop_movies = pop_based()\n",
    "    final = pop_movies.merge(similar, how = 'left', left_index = True, right_index = True)\n",
    "    final.rename({movie: 'similarity'}, axis = 1, inplace = True)\n",
    "    userid -= 1\n",
    "    watched_movies = utility_matrix.iloc[userid].dropna().index\n",
    "    final_1 = final.drop(index = watched_movies, errors = 'ignore').sort_values(by = 'similarity', ascending = False)\n",
    "\n",
    "    return final_1.head()\n",
    "\n",
    "userbased_movies()"
   ]
  }
 ],
 "metadata": {
  "interpreter": {
   "hash": "689d46da04ff8bad2c49b779f6e21cfd70132a25838f5d95f78a8116738f0999"
  },
  "kernelspec": {
   "display_name": "Python 3.10.2 64-bit",
   "language": "python",
   "name": "python3"
  },
  "language_info": {
   "codemirror_mode": {
    "name": "ipython",
    "version": 3
   },
   "file_extension": ".py",
   "mimetype": "text/x-python",
   "name": "python",
   "nbconvert_exporter": "python",
   "pygments_lexer": "ipython3",
   "version": "3.10.2"
  },
  "orig_nbformat": 4
 },
 "nbformat": 4,
 "nbformat_minor": 2
}
